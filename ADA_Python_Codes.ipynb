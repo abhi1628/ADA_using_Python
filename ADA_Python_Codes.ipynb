{
  "nbformat": 4,
  "nbformat_minor": 0,
  "metadata": {
    "colab": {
      "provenance": [],
      "authorship_tag": "ABX9TyO6rwMsdp4NjNrBiXFxUguE",
      "include_colab_link": true
    },
    "kernelspec": {
      "name": "python3",
      "display_name": "Python 3"
    },
    "language_info": {
      "name": "python"
    }
  },
  "cells": [
    {
      "cell_type": "markdown",
      "metadata": {
        "id": "view-in-github",
        "colab_type": "text"
      },
      "source": [
        "<a href=\"https://colab.research.google.com/github/abhi1628/ADA_using_Python/blob/main/ADA_Python_Codes.ipynb\" target=\"_parent\"><img src=\"https://colab.research.google.com/assets/colab-badge.svg\" alt=\"Open In Colab\"/></a>"
      ]
    },
    {
      "cell_type": "markdown",
      "source": [
        "## **Experiment 1**\n",
        "\n",
        "### Implement both iterative and recursive binary search algorithms to find a target element in a sorted array. Analyze the time complexity of both implementations."
      ],
      "metadata": {
        "id": "maA6n22043qn"
      }
    },
    {
      "cell_type": "code",
      "execution_count": 1,
      "metadata": {
        "colab": {
          "base_uri": "https://localhost:8080/"
        },
        "id": "V5ZJjnyi4tK9",
        "outputId": "47d91b19-e274-4b13-af85-8cf1b969ba2c"
      },
      "outputs": [
        {
          "output_type": "stream",
          "name": "stdout",
          "text": [
            "Iterative: 3\n",
            "Recursive: 3\n"
          ]
        }
      ],
      "source": [
        "# Iterative Binary Search\n",
        "def iterative_binary_search(arr, x):\n",
        "    left, right = 0, len(arr) - 1\n",
        "    while left <= right:\n",
        "        mid = left + (right - left) // 2\n",
        "        if arr[mid] == x:\n",
        "            return mid\n",
        "        elif arr[mid] < x:\n",
        "            left = mid + 1\n",
        "        else:\n",
        "            right = mid - 1\n",
        "    return -1\n",
        "\n",
        "# Recursive Binary Search\n",
        "def recursive_binary_search(arr, left, right, x):\n",
        "    if left <= right:\n",
        "        mid = left + (right - left) // 2\n",
        "        if arr[mid] == x:\n",
        "            return mid\n",
        "        elif arr[mid] < x:\n",
        "            return recursive_binary_search(arr, mid + 1, right, x)\n",
        "        else:\n",
        "            return recursive_binary_search(arr, left, mid - 1, x)\n",
        "    return -1\n",
        "\n",
        "# Test the functions\n",
        "arr = [2, 3, 4, 10, 40]\n",
        "x = 10\n",
        "print(\"Iterative:\", iterative_binary_search(arr, x))  # Output: 3\n",
        "print(\"Recursive:\", recursive_binary_search(arr, 0, len(arr)-1, x))  # Output: 3\n"
      ]
    },
    {
      "cell_type": "markdown",
      "source": [
        "## **Experiment 2**\n",
        "### Design and implement the merge sort algorithm. Demonstrate the process of dividing an array into subarrays, sorting, and merging them back. Compare its performance with other sorting algorithms."
      ],
      "metadata": {
        "id": "Z8dJ5NpF7Sjg"
      }
    },
    {
      "cell_type": "code",
      "source": [
        "def merge_sort(arr):\n",
        "    if len(arr) > 1:\n",
        "        # Finding the mid of the array\n",
        "        mid = len(arr) // 2\n",
        "\n",
        "        # Dividing the array elements into two halves\n",
        "        L = arr[:mid]\n",
        "        R = arr[mid:]\n",
        "\n",
        "        # Sorting the first half\n",
        "        merge_sort(L)\n",
        "\n",
        "        # Sorting the second half\n",
        "        merge_sort(R)\n",
        "\n",
        "        i = j = k = 0\n",
        "\n",
        "        # Copy data to temp arrays L[] and R[]\n",
        "        while i < len(L) and j < len(R):\n",
        "            if L[i] < R[j]:\n",
        "                arr[k] = L[i]\n",
        "                i += 1\n",
        "            else:\n",
        "                arr[k] = R[j]\n",
        "                j += 1\n",
        "            k += 1\n",
        "\n",
        "        # Checking if any element was left\n",
        "        while i < len(L):\n",
        "            arr[k] = L[i]\n",
        "            i += 1\n",
        "            k += 1\n",
        "\n",
        "        while j < len(R):\n",
        "            arr[k] = R[j]\n",
        "            j += 1\n",
        "            k += 1\n",
        "\n",
        "# Helper function to print the array\n",
        "def print_list(arr):\n",
        "    for i in range(len(arr)):\n",
        "        print(arr[i], end=\" \")\n",
        "    print()\n",
        "\n",
        "# Test the function\n",
        "arr = [12, 11, 13, 5, 6, 7]\n",
        "print(\"Given array is\")\n",
        "print_list(arr)\n",
        "\n",
        "merge_sort(arr)\n",
        "\n",
        "print(\"Sorted array is\")\n",
        "print_list(arr)\n"
      ],
      "metadata": {
        "colab": {
          "base_uri": "https://localhost:8080/"
        },
        "id": "Vk7jzXYK7QPR",
        "outputId": "112c2152-f8f3-42bc-e4a4-9a1bbf00c5d7"
      },
      "execution_count": 2,
      "outputs": [
        {
          "output_type": "stream",
          "name": "stdout",
          "text": [
            "Given array is\n",
            "12 11 13 5 6 7 \n",
            "Sorted array is\n",
            "5 6 7 11 12 13 \n"
          ]
        }
      ]
    },
    {
      "cell_type": "markdown",
      "source": [
        "## **Experiment 3**\n",
        "\n",
        "### Develop a quick sort algorithm to sort an array. Illustrate the process of choosing a pivot, partitioning the array, and recursively sorting the subarrays. Evaluate the best and worst-case time complexities."
      ],
      "metadata": {
        "id": "aFjXJOfv_u3p"
      }
    },
    {
      "cell_type": "code",
      "source": [
        "def quick_sort(arr):\n",
        "    quick_sort_helper(arr, 0, len(arr) - 1)\n",
        "\n",
        "def quick_sort_helper(arr, low, high):\n",
        "    if low < high:\n",
        "        # pi is partitioning index, arr[pi] is now at right place\n",
        "        pi = partition(arr, low, high)\n",
        "\n",
        "        # Recursively sort elements before partition and after partition\n",
        "        quick_sort_helper(arr, low, pi - 1)\n",
        "        quick_sort_helper(arr, pi + 1, high)\n",
        "\n",
        "def partition(arr, low, high):\n",
        "    # Choose the rightmost element as pivot\n",
        "    pivot = arr[high]\n",
        "    i = low - 1\n",
        "\n",
        "    for j in range(low, high):\n",
        "        if arr[j] <= pivot:\n",
        "            i += 1\n",
        "            arr[i], arr[j] = arr[j], arr[i]\n",
        "\n",
        "    arr[i + 1], arr[high] = arr[high], arr[i + 1]\n",
        "    return i + 1\n",
        "\n",
        "# Helper function to print the array\n",
        "def print_list(arr):\n",
        "    for i in range(len(arr)):\n",
        "        print(arr[i], end=\" \")\n",
        "    print()\n",
        "\n",
        "# Test the function\n",
        "arr = [10, 7, 8, 9, 1, 5]\n",
        "print(\"Given array is\")\n",
        "print_list(arr)\n",
        "\n",
        "quick_sort(arr)\n",
        "\n",
        "print(\"Sorted array is\")\n",
        "print_list(arr)\n"
      ],
      "metadata": {
        "colab": {
          "base_uri": "https://localhost:8080/"
        },
        "id": "2PVsD_t77kf_",
        "outputId": "6cbc3594-5e9c-4d28-9b79-fc5a755c8577"
      },
      "execution_count": 3,
      "outputs": [
        {
          "output_type": "stream",
          "name": "stdout",
          "text": [
            "Given array is\n",
            "10 7 8 9 1 5 \n",
            "Sorted array is\n",
            "1 5 7 8 9 10 \n"
          ]
        }
      ]
    },
    {
      "cell_type": "markdown",
      "source": [
        "## **Experiment 4**\n",
        "\n",
        "### Implement Strassen’s matrix multiplication algorithm and compare its efficiency with the standard matrix multiplication algorithm. Analyze the reduction in computational complexity."
      ],
      "metadata": {
        "id": "0JBqp13aBS6k"
      }
    },
    {
      "cell_type": "code",
      "source": [
        "def standard_matrix_multiplication(A, B):\n",
        "    n = len(A)\n",
        "    C = [[0] * n for _ in range(n)]\n",
        "\n",
        "    for i in range(n):\n",
        "        for j in range(n):\n",
        "            for k in range(n):\n",
        "                C[i][j] += A[i][k] * B[k][j]\n",
        "\n",
        "    return C\n",
        "\n",
        "def add_matrix(A, B):\n",
        "    n = len(A)\n",
        "    return [[A[i][j] + B[i][j] for j in range(n)] for i in range(n)]\n",
        "\n",
        "def sub_matrix(A, B):\n",
        "    n = len(A)\n",
        "    return [[A[i][j] - B[i][j] for j in range(n)] for i in range(n)]\n",
        "\n",
        "def strassen_matrix_multiplication(A, B):\n",
        "    n = len(A)\n",
        "    if n == 1:\n",
        "        return [[A[0][0] * B[0][0]]]\n",
        "    else:\n",
        "        mid = n // 2\n",
        "\n",
        "        A11 = [row[:mid] for row in A[:mid]]\n",
        "        A12 = [row[mid:] for row in A[:mid]]\n",
        "        A21 = [row[:mid] for row in A[mid:]]\n",
        "        A22 = [row[mid:] for row in A[mid:]]\n",
        "\n",
        "        B11 = [row[:mid] for row in B[:mid]]\n",
        "        B12 = [row[mid:] for row in B[:mid]]\n",
        "        B21 = [row[:mid] for row in B[mid:]]\n",
        "        B22 = [row[mid:] for row in B[mid:]]\n",
        "\n",
        "        M1 = strassen_matrix_multiplication(add_matrix(A11, A22), add_matrix(B11, B22))\n",
        "        M2 = strassen_matrix_multiplication(add_matrix(A21, A22), B11)\n",
        "        M3 = strassen_matrix_multiplication(A11, sub_matrix(B12, B22))\n",
        "        M4 = strassen_matrix_multiplication(A22, sub_matrix(B21, B11))\n",
        "        M5 = strassen_matrix_multiplication(add_matrix(A11, A12), B22)\n",
        "        M6 = strassen_matrix_multiplication(sub_matrix(A21, A11), add_matrix(B11, B12))\n",
        "        M7 = strassen_matrix_multiplication(sub_matrix(A12, A22), add_matrix(B21, B22))\n",
        "\n",
        "        C11 = add_matrix(sub_matrix(add_matrix(M1, M4), M5), M7)\n",
        "        C12 = add_matrix(M3, M5)\n",
        "        C21 = add_matrix(M2, M4)\n",
        "        C22 = add_matrix(sub_matrix(add_matrix(M1, M3), M2), M6)\n",
        "\n",
        "        C = [[0] * n for _ in range(n)]\n",
        "        for i in range(mid):\n",
        "            for j in range(mid):\n",
        "                C[i][j] = C11[i][j]\n",
        "                C[i][j + mid] = C12[i][j]\n",
        "                C[i + mid][j] = C21[i][j]\n",
        "                C[i + mid][j + mid] = C22[i][j]\n",
        "\n",
        "        return C\n",
        "\n",
        "# Helper function to print matrices\n",
        "def print_matrix(matrix):\n",
        "    for row in matrix:\n",
        "        print(\" \".join(map(str, row)))\n",
        "    print()\n",
        "\n",
        "# Test matrices (must be of size 2^n x 2^n for simplicity)\n",
        "A = [\n",
        "    [1, 2],\n",
        "    [3, 4]\n",
        "]\n",
        "\n",
        "B = [\n",
        "    [5, 6],\n",
        "    [7, 8]\n",
        "]\n",
        "\n",
        "print(\"Matrix A:\")\n",
        "print_matrix(A)\n",
        "\n",
        "print(\"Matrix B:\")\n",
        "print_matrix(B)\n",
        "\n",
        "print(\"Standard Matrix Multiplication Result:\")\n",
        "C_standard = standard_matrix_multiplication(A, B)\n",
        "print_matrix(C_standard)\n",
        "\n",
        "print(\"Strassen's Matrix Multiplication Result:\")\n",
        "C_strassen = strassen_matrix_multiplication(A, B)\n",
        "print_matrix(C_strassen)\n"
      ],
      "metadata": {
        "colab": {
          "base_uri": "https://localhost:8080/"
        },
        "id": "1wLurVHi_6Ov",
        "outputId": "492956d7-874d-4aee-aec8-67ee97ffbaff"
      },
      "execution_count": 5,
      "outputs": [
        {
          "output_type": "stream",
          "name": "stdout",
          "text": [
            "Matrix A:\n",
            "1 2\n",
            "3 4\n",
            "\n",
            "Matrix B:\n",
            "5 6\n",
            "7 8\n",
            "\n",
            "Standard Matrix Multiplication Result:\n",
            "19 22\n",
            "43 50\n",
            "\n",
            "Strassen's Matrix Multiplication Result:\n",
            "19 22\n",
            "43 50\n",
            "\n"
          ]
        }
      ]
    },
    {
      "cell_type": "markdown",
      "source": [
        "## **Experiment 5**\n",
        "\n",
        "### Construct an optimal merge pattern for a given set of file sizes using a priority queue. Determine the minimum cost of merging the files and explain the steps involved."
      ],
      "metadata": {
        "id": "p8uDW5m3FKv3"
      }
    },
    {
      "cell_type": "code",
      "source": [
        "import heapq\n",
        "\n",
        "def optimal_merge_pattern(file_sizes):\n",
        "    # Initialize a min-heap\n",
        "    heapq.heapify(file_sizes)\n",
        "\n",
        "    total_cost = 0\n",
        "\n",
        "    # While there is more than one file left in the heap\n",
        "    while len(file_sizes) > 1:\n",
        "        # Extract the two smallest file sizes\n",
        "        first_smallest = heapq.heappop(file_sizes)\n",
        "        second_smallest = heapq.heappop(file_sizes)\n",
        "\n",
        "        # Merge the two files\n",
        "        merged_file_size = first_smallest + second_smallest\n",
        "        total_cost += merged_file_size\n",
        "\n",
        "        # Insert the merged file size back into the heap\n",
        "        heapq.heappush(file_sizes, merged_file_size)\n",
        "\n",
        "    return total_cost\n",
        "\n",
        "# Example usage\n",
        "file_sizes = [4, 3, 2, 6]\n",
        "print(\"Given file sizes:\", file_sizes)\n",
        "\n",
        "minimum_cost = optimal_merge_pattern(file_sizes)\n",
        "print(\"Minimum cost of merging the files:\", minimum_cost)\n"
      ],
      "metadata": {
        "colab": {
          "base_uri": "https://localhost:8080/"
        },
        "id": "nyV6O3DNCYGj",
        "outputId": "e27718fa-69c2-40b1-a663-5f2042c289ca"
      },
      "execution_count": 6,
      "outputs": [
        {
          "output_type": "stream",
          "name": "stdout",
          "text": [
            "Given file sizes: [4, 3, 2, 6]\n",
            "Minimum cost of merging the files: 29\n"
          ]
        }
      ]
    },
    {
      "cell_type": "markdown",
      "source": [
        "## **Experiment 6**\n",
        "\n",
        "### Implement the Huffman coding algorithm to compress a given string. Construct the Huffman tree and generate the binary codes for each character. Decode the encoded string back to the original."
      ],
      "metadata": {
        "id": "eZ-Z2n7HSMbZ"
      }
    },
    {
      "cell_type": "code",
      "source": [
        "import heapq\n",
        "from collections import defaultdict, Counter\n",
        "\n",
        "class Node:\n",
        "    def __init__(self, char=None, freq=0, left=None, right=None):\n",
        "        self.char = char\n",
        "        self.freq = freq\n",
        "        self.left = left\n",
        "        self.right = right\n",
        "\n",
        "    def __lt__(self, other):\n",
        "        return self.freq < other.freq\n",
        "\n",
        "def build_huffman_tree(frequencies):\n",
        "    heap = [Node(char, freq) for char, freq in frequencies.items()]\n",
        "    heapq.heapify(heap)\n",
        "\n",
        "    while len(heap) > 1:\n",
        "        left = heapq.heappop(heap)\n",
        "        right = heapq.heappop(heap)\n",
        "        parent = Node(freq=left.freq + right.freq, left=left, right=right)\n",
        "        heapq.heappush(heap, parent)\n",
        "\n",
        "    return heap[0]\n",
        "\n",
        "def generate_codes(root):\n",
        "    codes = {}\n",
        "\n",
        "    def dfs(node, code):\n",
        "        if node is None:\n",
        "            return\n",
        "        if node.char is not None:\n",
        "            codes[node.char] = code\n",
        "        dfs(node.left, code + '0')\n",
        "        dfs(node.right, code + '1')\n",
        "\n",
        "    dfs(root, '')\n",
        "    return codes\n",
        "\n",
        "def huffman_encode(string, codes):\n",
        "    encoded_string = ''.join(codes[char] for char in string)\n",
        "    return encoded_string\n",
        "\n",
        "def huffman_decode(encoded_string, root):\n",
        "    decoded_string = ''\n",
        "    current_node = root\n",
        "\n",
        "    for bit in encoded_string:\n",
        "        if bit == '0':\n",
        "            current_node = current_node.left\n",
        "        else:\n",
        "            current_node = current_node.right\n",
        "\n",
        "        if current_node.char is not None:\n",
        "            decoded_string += current_node.char\n",
        "            current_node = root\n",
        "\n",
        "    return decoded_string\n",
        "\n",
        "def huffman_compress(string):\n",
        "    frequencies = Counter(string)\n",
        "    root = build_huffman_tree(frequencies)\n",
        "    codes = generate_codes(root)\n",
        "    encoded_string = huffman_encode(string, codes)\n",
        "    return encoded_string, root\n",
        "\n",
        "def huffman_decompress(encoded_string, root):\n",
        "    decoded_string = huffman_decode(encoded_string, root)\n",
        "    return decoded_string\n",
        "\n",
        "# Example usage\n",
        "input_string = \"Huffman coding.\"\n",
        "encoded_string, huffman_tree_root = huffman_compress(input_string)\n",
        "print(\"Original string:\", input_string)\n",
        "print(\"Encoded string:\", encoded_string)\n",
        "\n",
        "decoded_string = huffman_decompress(encoded_string, huffman_tree_root)\n",
        "print(\"Decoded string:\", decoded_string)\n"
      ],
      "metadata": {
        "colab": {
          "base_uri": "https://localhost:8080/"
        },
        "id": "GJJO6XsPSWwR",
        "outputId": "2737310a-b9c1-448f-fa6d-1003b4575561"
      },
      "execution_count": 14,
      "outputs": [
        {
          "output_type": "stream",
          "name": "stdout",
          "text": [
            "Original string: Huffman coding.\n",
            "Encoded string: 0111110100100101011111101100000001001100111010101101001\n",
            "Decoded string: Huffman coding.\n"
          ]
        }
      ]
    },
    {
      "cell_type": "markdown",
      "source": [
        "## **Experiment 7**\n",
        "\n",
        "### Apply Kruskal’s algorithm to find the minimum spanning tree of a weighted graph. Use the union-find data structure to detect cycles. Evaluate the algorithm’s performance on different graph inputs."
      ],
      "metadata": {
        "id": "VMD8qYEBPItv"
      }
    },
    {
      "cell_type": "code",
      "source": [
        "class UnionFind:\n",
        "    def __init__(self, n):\n",
        "        self.parent = list(range(n))\n",
        "        self.rank = [0] * n\n",
        "\n",
        "    def find(self, x):\n",
        "        if self.parent[x] != x:\n",
        "            self.parent[x] = self.find(self.parent[x])\n",
        "        return self.parent[x]\n",
        "\n",
        "    def union(self, x, y):\n",
        "        root_x = self.find(x)\n",
        "        root_y = self.find(y)\n",
        "        if root_x != root_y:\n",
        "            if self.rank[root_x] > self.rank[root_y]:\n",
        "                self.parent[root_y] = root_x\n",
        "            elif self.rank[root_x] < self.rank[root_y]:\n",
        "                self.parent[root_x] = root_y\n",
        "            else:\n",
        "                self.parent[root_y] = root_x\n",
        "                self.rank[root_x] += 1\n",
        "\n",
        "def kruskal(graph):\n",
        "    n = len(graph)\n",
        "    mst = []  # Minimum spanning tree\n",
        "    edges = []\n",
        "\n",
        "    # Construct list of edges\n",
        "    for i in range(n):\n",
        "        for j in range(i + 1, n):\n",
        "            if graph[i][j] != 0:\n",
        "                edges.append((graph[i][j], i, j))\n",
        "\n",
        "    # Sort edges by weight\n",
        "    edges.sort()\n",
        "\n",
        "    # Initialize Union-Find data structure\n",
        "    uf = UnionFind(n)\n",
        "\n",
        "    # Process edges in non-decreasing order of weight\n",
        "    for weight, u, v in edges:\n",
        "        if uf.find(u) != uf.find(v):  # Check for cycle\n",
        "            mst.append((u, v, weight))\n",
        "            uf.union(u, v)\n",
        "\n",
        "    return mst\n",
        "\n",
        "# Example usage\n",
        "graph = [\n",
        "    [0, 2, 0, 6, 0],\n",
        "    [2, 0, 3, 8, 5],\n",
        "    [0, 3, 0, 0, 7],\n",
        "    [6, 8, 0, 0, 9],\n",
        "    [0, 5, 7, 9, 0]\n",
        "]\n",
        "\n",
        "minimum_spanning_tree = kruskal(graph)\n",
        "print(\"Minimum Spanning Tree (Kruskal's algorithm):\", minimum_spanning_tree)\n"
      ],
      "metadata": {
        "colab": {
          "base_uri": "https://localhost:8080/"
        },
        "id": "Om4pZZzpPT2h",
        "outputId": "90181de9-4e5a-4217-8aa0-971ee05b7623"
      },
      "execution_count": 12,
      "outputs": [
        {
          "output_type": "stream",
          "name": "stdout",
          "text": [
            "Minimum Spanning Tree (Kruskal's algorithm): [(0, 1, 2), (1, 2, 3), (1, 4, 5), (0, 3, 6)]\n"
          ]
        }
      ]
    },
    {
      "cell_type": "markdown",
      "source": [
        "## **Experiment 8**\n",
        "\n",
        "### Implement Prim’s algorithm to determine the minimum spanning tree of a connected graph. Use a priority queue to optimize the selection of the next edge. Compare its efficiency with Kruskal’s algorithm."
      ],
      "metadata": {
        "id": "mgiNG-C_O8Eo"
      }
    },
    {
      "cell_type": "code",
      "source": [
        "import heapq\n",
        "\n",
        "def prim(graph):\n",
        "    n = len(graph)\n",
        "    mst = []  # Minimum spanning tree\n",
        "    visited = [False] * n\n",
        "    start_vertex = 0\n",
        "\n",
        "    pq = []  # Priority queue of (weight, vertex, parent) tuples\n",
        "    heapq.heappush(pq, (0, start_vertex, None))\n",
        "\n",
        "    while pq:\n",
        "        weight, u, parent = heapq.heappop(pq)\n",
        "        if visited[u]:\n",
        "            continue\n",
        "        visited[u] = True\n",
        "        if parent is not None:\n",
        "            mst.append((parent, u, weight))\n",
        "        for v, w in enumerate(graph[u]):\n",
        "            if w != 0 and not visited[v]:\n",
        "                heapq.heappush(pq, (w, v, u))\n",
        "\n",
        "    return mst\n",
        "\n",
        "# Example usage\n",
        "graph = [\n",
        "    [0, 2, 0, 6, 0], [2, 0, 3, 8, 5], [0, 3, 0, 0, 7],\n",
        "    [6, 8, 0, 0, 9], [0, 5, 7, 9, 0]\n",
        "]\n",
        "\n",
        "minimum_spanning_tree = prim(graph)\n",
        "print(\"Minimum Spanning Tree (Prim's algorithm):\", minimum_spanning_tree)\n"
      ],
      "metadata": {
        "colab": {
          "base_uri": "https://localhost:8080/"
        },
        "id": "5xgcRabQPH3M",
        "outputId": "1ef5c6d2-ba3d-4566-b27f-7b3c79b3364c"
      },
      "execution_count": 11,
      "outputs": [
        {
          "output_type": "stream",
          "name": "stdout",
          "text": [
            "Minimum Spanning Tree (Prim's algorithm): [(0, 1, 2), (1, 2, 3), (1, 4, 5), (0, 3, 6)]\n"
          ]
        }
      ]
    },
    {
      "cell_type": "markdown",
      "source": [
        "## **Experiment 9**\n",
        "\n",
        "### Develop Dijkstra’s algorithm to find the shortest paths from a single source vertex to all other vertices in a graph. Analyze its performance on graphs with non-negative weights."
      ],
      "metadata": {
        "id": "VXaB_PPVOysp"
      }
    },
    {
      "cell_type": "code",
      "source": [
        "import heapq\n",
        "\n",
        "def dijkstra(graph, source):\n",
        "    n = len(graph)\n",
        "    dist = [float('inf')] * n\n",
        "    dist[source] = 0\n",
        "    pq = [(0, source)]  # Priority queue (min-heap) of (distance, vertex) pairs\n",
        "\n",
        "    while pq:\n",
        "        d, u = heapq.heappop(pq)  # Extract vertex with minimum distance\n",
        "        if d > dist[u]:\n",
        "            continue  # Skip if the current distance is greater than the stored distance\n",
        "        for v, w in enumerate(graph[u]):\n",
        "            if w != 0 and dist[u] + w < dist[v]:\n",
        "                dist[v] = dist[u] + w\n",
        "                heapq.heappush(pq, (dist[v], v))\n",
        "\n",
        "    return dist\n",
        "\n",
        "# Example usage\n",
        "graph = [\n",
        "    [0, 4, 0, 0, 0, 0, 0, 8, 0],\n",
        "    [4, 0, 8, 0, 0, 0, 0, 11, 0],\n",
        "    [0, 8, 0, 7, 0, 4, 0, 0, 2],\n",
        "    [0, 0, 7, 0, 9, 14, 0, 0, 0],\n",
        "    [0, 0, 0, 9, 0, 10, 0, 0, 0],\n",
        "    [0, 0, 4, 14, 10, 0, 2, 0, 0],\n",
        "    [0, 0, 0, 0, 0, 2, 0, 1, 6],\n",
        "    [8, 11, 0, 0, 0, 0, 1, 0, 7],\n",
        "    [0, 0, 2, 0, 0, 0, 6, 7, 0]\n",
        "]\n",
        "\n",
        "source_vertex = 0\n",
        "shortest_distances = dijkstra(graph, source_vertex)\n",
        "print(\"Shortest distances from vertex\", source_vertex,\n",
        "      \"to all other vertices:\", shortest_distances)\n"
      ],
      "metadata": {
        "colab": {
          "base_uri": "https://localhost:8080/"
        },
        "id": "xtWcRjXZO7Xq",
        "outputId": "251211c8-c587-4f14-d773-dfb88f6ab554"
      },
      "execution_count": 10,
      "outputs": [
        {
          "output_type": "stream",
          "name": "stdout",
          "text": [
            "Shortest distances from vertex 0 to all other vertices: [0, 4, 12, 19, 21, 11, 9, 8, 14]\n"
          ]
        }
      ]
    },
    {
      "cell_type": "markdown",
      "source": [
        "## **Experiment 10**\n",
        "\n",
        "### Implement the Floyd-Warshall algorithm to find the shortest paths between all pairs of vertices in a graph. Discuss its application in solving the all-pairs shortest path problem and analyze its time complexity."
      ],
      "metadata": {
        "id": "AG7dKK43ONFT"
      }
    },
    {
      "cell_type": "code",
      "source": [
        "def floyd_warshall(graph):\n",
        "    n = len(graph)\n",
        "    dist = [[float('inf')] * n for _ in range(n)]\n",
        "\n",
        "    # Initialize distance matrix with edge weights\n",
        "    for i in range(n):\n",
        "        for j in range(n):\n",
        "            if i == j:\n",
        "                dist[i][j] = 0\n",
        "            elif graph[i][j] != 0:\n",
        "                dist[i][j] = graph[i][j]\n",
        "\n",
        "    # Floyd-Warshall algorithm\n",
        "    for k in range(n):\n",
        "        for i in range(n):\n",
        "            for j in range(n):\n",
        "                if dist[i][k] != float('inf') and dist[k][j] != float('inf'):\n",
        "                    dist[i][j] = min(dist[i][j], dist[i][k] + dist[k][j])\n",
        "\n",
        "    return dist\n",
        "\n",
        "# Example usage\n",
        "graph = [\n",
        "    [0, 5, float('inf'), 10],\n",
        "    [float('inf'), 0, 3, float('inf')],\n",
        "    [float('inf'), float('inf'), 0, 1],\n",
        "    [float('inf'), float('inf'), float('inf'), 0]\n",
        "]\n",
        "\n",
        "all_pairs_shortest_paths = floyd_warshall(graph)\n",
        "for i in range(len(all_pairs_shortest_paths)):\n",
        "    print(\"Shortest distances from vertex\", i, \"to all other vertices:\",\n",
        "          all_pairs_shortest_paths[i])\n"
      ],
      "metadata": {
        "colab": {
          "base_uri": "https://localhost:8080/"
        },
        "id": "Ucl278tqOTQv",
        "outputId": "e997ce7f-85a8-49b7-af12-c0cd08b85aab"
      },
      "execution_count": 9,
      "outputs": [
        {
          "output_type": "stream",
          "name": "stdout",
          "text": [
            "Shortest distances from vertex 0 to all other vertices: [0, 5, 8, 9]\n",
            "Shortest distances from vertex 1 to all other vertices: [inf, 0, 3, 4]\n",
            "Shortest distances from vertex 2 to all other vertices: [inf, inf, 0, 1]\n",
            "Shortest distances from vertex 3 to all other vertices: [inf, inf, inf, 0]\n"
          ]
        }
      ]
    },
    {
      "cell_type": "markdown",
      "source": [
        "## **Experiment 11**\n",
        "\n",
        "### Solve the Traveling Salesman Problem using a brute-force approach. List all possible permutations of vertex visits and determine the minimum cost path. Evaluate the limitations of this approach for large datasets."
      ],
      "metadata": {
        "id": "bJQYncdnMmwA"
      }
    },
    {
      "cell_type": "code",
      "source": [
        "import itertools\n",
        "\n",
        "def calculate_cost(path, graph):\n",
        "    cost = 0\n",
        "    n = len(path)\n",
        "    for i in range(n - 1):\n",
        "        cost += graph[path[i]][path[i + 1]]\n",
        "    cost += graph[path[-1]][path[0]]  # Add cost to return to starting vertex\n",
        "    return cost\n",
        "\n",
        "def brute_force_tsp(graph):\n",
        "    n = len(graph)\n",
        "    vertices = list(range(n))\n",
        "    min_cost = float('inf')\n",
        "    min_path = None\n",
        "\n",
        "    # Generate all permutations of vertex visits\n",
        "    permutations = itertools.permutations(vertices)\n",
        "\n",
        "    # Calculate the cost of each permutation\n",
        "    for perm in permutations:\n",
        "        cost = calculate_cost(perm, graph)\n",
        "        if cost < min_cost:\n",
        "            min_cost = cost\n",
        "            min_path = perm\n",
        "\n",
        "    return min_path, min_cost\n",
        "\n",
        "# Example usage\n",
        "graph = [\n",
        "    [0, 10, 15, 20],\n",
        "    [10, 0, 35, 25],\n",
        "    [15, 35, 0, 30],\n",
        "    [20, 25, 30, 0]\n",
        "]\n",
        "\n",
        "min_path, min_cost = brute_force_tsp(graph)\n",
        "print(\"Minimum cost path:\", min_path)\n",
        "print(\"Minimum cost:\", min_cost)\n"
      ],
      "metadata": {
        "colab": {
          "base_uri": "https://localhost:8080/"
        },
        "id": "uTlY4KmYMtWZ",
        "outputId": "4d0c6cc1-5db7-43cb-ce9e-96682b6e5ba1"
      },
      "execution_count": 8,
      "outputs": [
        {
          "output_type": "stream",
          "name": "stdout",
          "text": [
            "Minimum cost path: (0, 1, 3, 2)\n",
            "Minimum cost: 80\n"
          ]
        }
      ]
    },
    {
      "cell_type": "markdown",
      "source": [
        "## **Experiment 12**\n",
        "### Implement a backtracking algorithm to find a Hamiltonian cycle in a given graph. Demonstrate the process of checking each vertex and backtracking when a cycle cannot be completed. Discuss the computational complexity."
      ],
      "metadata": {
        "id": "HKI8StxYKRco"
      }
    },
    {
      "cell_type": "code",
      "source": [
        "def is_valid(vertex, graph, path, pos):\n",
        "    # Check if this vertex is adjacent to the previous vertex in the path\n",
        "    if graph[path[pos - 1]][vertex] == 0:\n",
        "        return False\n",
        "\n",
        "    # Check if this vertex is already included in the path\n",
        "    if vertex in path:\n",
        "        return False\n",
        "\n",
        "    return True\n",
        "\n",
        "def hamiltonian_cycle_util(graph, path, pos):\n",
        "    if pos == len(graph):\n",
        "        # If all vertices are visited, check if there is an edge from the last vertex to the starting vertex\n",
        "        if graph[path[pos - 1]][path[0]] == 1:\n",
        "            return True\n",
        "        else:\n",
        "            return False\n",
        "\n",
        "    for v in range(len(graph)):\n",
        "        if is_valid(v, graph, path, pos):\n",
        "            path[pos] = v\n",
        "            if hamiltonian_cycle_util(graph, path, pos + 1):\n",
        "                return True\n",
        "            path[pos] = -1\n",
        "\n",
        "    return False\n",
        "\n",
        "def hamiltonian_cycle(graph):\n",
        "    n = len(graph)\n",
        "    path = [-1] * n\n",
        "\n",
        "    # Start from vertex 0\n",
        "    path[0] = 0\n",
        "\n",
        "    if not hamiltonian_cycle_util(graph, path, 1):\n",
        "        print(\"No Hamiltonian cycle exists\")\n",
        "        return False\n",
        "\n",
        "    print(\"Hamiltonian cycle exists:\")\n",
        "    print(\"Path:\", path)\n",
        "    return True\n",
        "\n",
        "# Example usage\n",
        "graph = [\n",
        "    [0, 1, 0, 1, 0],\n",
        "    [1, 0, 1, 1, 1],\n",
        "    [0, 1, 0, 0, 1],\n",
        "    [1, 1, 0, 0, 1],\n",
        "    [0, 1, 1, 1, 0]\n",
        "]\n",
        "\n",
        "hamiltonian_cycle(graph)\n"
      ],
      "metadata": {
        "colab": {
          "base_uri": "https://localhost:8080/"
        },
        "id": "fbulcB3oHcCc",
        "outputId": "05324458-25ec-4f23-bd21-96c3bc94be12"
      },
      "execution_count": 7,
      "outputs": [
        {
          "output_type": "stream",
          "name": "stdout",
          "text": [
            "Hamiltonian cycle exists:\n",
            "Path: [0, 1, 2, 4, 3]\n"
          ]
        },
        {
          "output_type": "execute_result",
          "data": {
            "text/plain": [
              "True"
            ]
          },
          "metadata": {},
          "execution_count": 7
        }
      ]
    },
    {
      "cell_type": "code",
      "source": [],
      "metadata": {
        "id": "TsS3sihqL6f1"
      },
      "execution_count": null,
      "outputs": []
    }
  ]
}